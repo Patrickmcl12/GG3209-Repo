{
 "cells": [
  {
   "cell_type": "markdown",
   "id": "5c72ef2d-fe4d-47eb-a0b7-c2c7ec1dd61e",
   "metadata": {},
   "source": [
    "# Recent Urban expansion and Land Use Change\n",
    "\n",
    " **Patrick McLaughlin** \n",
    "\n",
    "**220015106**\n",
    "\n",
    " **20/02/25** \n",
    "\n",
    " **Here is the link to my project on my github repository** [https://github.com/Patrickmcl12/GG3209-Repo.git]\n",
    "\n",
    "## Declaration\n",
    "\n",
    "> In submitting this assignment, I hereby confirm that I have read the University's statement on Good Academic Practice. The following work is my own. Significant academic debts and borrowings have been properly acknowledged and referenced.\n"
   ]
  },
  {
   "cell_type": "code",
   "execution_count": null,
   "id": "ce8f369e",
   "metadata": {},
   "outputs": [],
   "source": []
  },
  {
   "cell_type": "markdown",
   "id": "e39442ee-8280-4412-a7dd-934b14c1f04a",
   "metadata": {},
   "source": [
    "## Introduction\n",
    "\n",
    "In the modern day world we are witnessing urban change and land use changes within day to day lives. Land is frequently being altered in order to cater for different physical, social, and enviromental changes which in most cases can be beneficial but also detrimental at the same time. Within this research project i will source data from areas such as Open Street Maps and Satellite imagery to help gauge better visual perspectives of these changes. From there I will import this data into QGIS in order to allign certain maps/data together and to extract certain features which can help draw attention to more specific areas. I will also aim to use python against the data in order to help locate specific strings of information and categories more efficiently \n"
   ]
  },
  {
   "cell_type": "markdown",
   "id": "cb383aa0-bded-4d8e-aa3c-c0e80be48d08",
   "metadata": {},
   "source": [
    "## Methodology\n",
    "\n",
    "Describe the methods used in your research, including data sources, collection procedures, analysis techniques, and any relevant software tools. Include code cells for data loading, preprocessing, and key steps in your analysis pipeline.\n"
   ]
  },
  {
   "cell_type": "code",
   "execution_count": null,
   "id": "7817ec7e-a223-4925-86a9-80354375e96b",
   "metadata": {},
   "outputs": [],
   "source": [
    "# Import necessary libraries for your project\n",
    "import pandas as pd \n",
    "import matplotlib.pyplot as plt  \n",
    "\n",
    "# Placeholder code for data loading and preprocessing - If the code is too large, make use of appendix\n",
    "# section, describing clearly where the code is located to reproduce any map, figure, final results\n",
    "# and workflow you need to include\n",
    "# ...\n"
   ]
  },
  {
   "cell_type": "markdown",
   "id": "1302f1b0-4430-47e1-ae94-d14ffe49f578",
   "metadata": {},
   "source": [
    "## Results\n",
    "\n",
    "Illustrate your findings organised, using clear and concise text, informative tables, and good visualizations. Explain the meaning and significance of your results, making connections to the research questions or any hypotheses outlined in the introduction.\n"
   ]
  },
  {
   "cell_type": "code",
   "execution_count": null,
   "id": "620ce242-f67d-4cc3-b01c-b649e24edf34",
   "metadata": {},
   "outputs": [],
   "source": [
    "# Code for generating and visualizing results\n",
    "# ...\n"
   ]
  },
  {
   "cell_type": "markdown",
   "id": "efb2cf9d-1f67-46a7-a3c7-553d0ce644a9",
   "metadata": {},
   "source": [
    "## Discussion\n",
    "\n",
    "Interpret your results in the context of existing literature. Discuss any limitations of your study and potential future research directions.\n"
   ]
  },
  {
   "cell_type": "markdown",
   "id": "baa93ed6-f26b-483c-9033-dba559fb3040",
   "metadata": {},
   "source": [
    "## Conclusion\n",
    "\n",
    "Summarize the key findings and their implications. Briefly restate the research question and highlight the main contributions of your project.\n"
   ]
  },
  {
   "cell_type": "markdown",
   "id": "76495c81-b370-4d75-8dc9-1a7481c89b8b",
   "metadata": {},
   "source": [
    "## Appendix\n",
    "\n",
    "Include any additional information and code not included in the main body of the paper but may be necessary. This could include:\n",
    "\n",
    "* Raw data tables\n",
    "* Additional figures or tables\n",
    "* Supporting code\n"
   ]
  },
  {
   "cell_type": "markdown",
   "id": "a2627cc5-5f17-47a1-82e1-455c28d95fb6",
   "metadata": {},
   "source": [
    "## References\n",
    "\n",
    "You could use an appropriate citation management tool (e.g., Zotero, Mendeley) to create BibTeX entries for your references. Paste the generated BibTeX code here, and you can use tools like `pandoc` (if necessary) to convert it to the desired reference format (e.g., APA, MLA).\n"
   ]
  }
 ],
 "metadata": {
  "kernelspec": {
   "display_name": "Python 3 (ipykernel)",
   "language": "python",
   "name": "python3"
  },
  "language_info": {
   "codemirror_mode": {
    "name": "ipython",
    "version": 3
   },
   "file_extension": ".py",
   "mimetype": "text/x-python",
   "name": "python",
   "nbconvert_exporter": "python",
   "pygments_lexer": "ipython3",
   "version": "3.11.6"
  }
 },
 "nbformat": 4,
 "nbformat_minor": 5
}
