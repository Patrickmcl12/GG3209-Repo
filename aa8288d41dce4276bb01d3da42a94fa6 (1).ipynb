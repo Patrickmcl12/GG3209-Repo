{
 "cells": [
  {
   "cell_type": "markdown",
   "metadata": {},
   "source": [
    "\n",
    "# Lab Assignment 2- Patrick McLaughlin\n",
    "\n",
    "\n",
    "`220015106`\n",
    "\n",
    "`Here is the link to the new repository in which i created in gitHub for my lab assignment 2` [https://github.com/Patrickmcl12/Lab-Assignment-2.git]\n"
   ]
  },
  {
   "cell_type": "markdown",
   "metadata": {},
   "source": [
    "# Part 1: Python Basics\n",
    "\n",
    "`Task 1: For this task I will use an \"If...else\" statement to test whether a specific number is divisible by 3. Depending if it is or not, the appropriate return message will be displayed.`\n"
   ]
  },
  {
   "cell_type": "code",
   "execution_count": 2,
   "metadata": {},
   "outputs": [
    {
     "name": "stdout",
     "output_type": "stream",
     "text": [
      "6 is divisible by 3 \n"
     ]
    }
   ],
   "source": [
    "x = 6 \n",
    "if x % 3 == 0:\n",
    "    print(str(x) + \" is divisible by 3 \")\n",
    "else:\n",
    "    print(str(x) + \" is not divisible by 3 \")"
   ]
  },
  {
   "cell_type": "markdown",
   "metadata": {},
   "source": [
    "`Task 2- For this task I will use another \"If...else\" statement to test whether a type of fruit (represented as a text string) is in a list of acceptable fruits. Depending if it is or not, the appropriate return message will be displayed.`\n"
   ]
  },
  {
   "cell_type": "code",
   "execution_count": 4,
   "metadata": {},
   "outputs": [
    {
     "name": "stdout",
     "output_type": "stream",
     "text": [
      "Pear is not acceptable\n"
     ]
    }
   ],
   "source": [
    "fruits = [ \"apple\", \"orange\", \"pear\", \"kiwi\", \"strawberry\"]\n",
    "\n",
    "x = \"Pear\"\n",
    "if x in fruits:\n",
    "    print(x + \" is acceptable \")\n",
    "else: \n",
    "    print(x + \" is not acceptable\")\n",
    "          "
   ]
  },
  {
   "cell_type": "markdown",
   "metadata": {},
   "source": [
    "`Task 3- For this task I will create a function to calculate the distance between two coordinates using the haversine formula`"
   ]
  },
  {
   "cell_type": "code",
   "execution_count": null,
   "metadata": {},
   "outputs": [],
   "source": [
    "from math import sin, cos, tan, sqrt\n",
    "\n",
    "d = r * c\n",
    "c = 2 * atan2 (sqrt(a), sqrt (1-a))\n",
    "r = 6371\n",
    "\n",
    "return d"
   ]
  }
 ],
 "metadata": {
  "esriNotebookRuntime": {
   "notebookRuntimeName": "ArcGIS Notebook Python 3 Standard",
   "notebookRuntimeVersion": "11.0"
  },
  "kernelspec": {
   "display_name": "Python 3 (ipykernel)",
   "language": "python",
   "name": "python3"
  },
  "language_info": {
   "codemirror_mode": {
    "name": "ipython",
    "version": 3
   },
   "file_extension": ".py",
   "mimetype": "text/x-python",
   "name": "python",
   "nbconvert_exporter": "python",
   "pygments_lexer": "ipython3",
   "version": "3.11.9"
  }
 },
 "nbformat": 4,
 "nbformat_minor": 4
}
